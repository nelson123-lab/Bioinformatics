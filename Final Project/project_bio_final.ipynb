{
 "cells": [
  {
   "cell_type": "code",
   "execution_count": 18,
   "id": "0b8e9753",
   "metadata": {},
   "outputs": [
    {
     "name": "stderr",
     "output_type": "stream",
     "text": [
      "/var/folders/ln/f99l0sv10qngngkhp5fwp5cw0000gn/T/ipykernel_21085/3853315778.py:24: FutureWarning: The default value of numeric_only in DataFrame.corr is deprecated. In a future version, it will default to False. Select only valid columns or specify the value of numeric_only to silence this warning.\n",
      "  ccorrelations = merged_data.corr()['Host'].sort_values(ascending=False)\n"
     ]
    }
   ],
   "source": [
    "import pandas as pd\n",
    "from sklearn.model_selection import train_test_split\n",
    "\n",
    "# Load the gene expression data and transpose it\n",
    "gene_expression = pd.read_csv(\"normalized_counts_vst.csv\").T\n",
    "gene_expression.columns = gene_expression.iloc[0].tolist()\n",
    "gene_expression = gene_expression.iloc[1:]\n",
    "gene_expression['Sample_ID'] = gene_expression.index\n",
    "\n",
    "# Load the metadata with the target variable\n",
    "metadata = pd.read_csv(\"metadata.csv\")\n",
    "\n",
    "# Merge the gene expression data with the metadata based on 'Sample_ID'\n",
    "merged_data = pd.merge(gene_expression, metadata, on='Sample_ID')\n",
    "\n",
    "# Convert the 'Host' column to binary encoding (1 for 'MCAV', 0 otherwise)\n",
    "merged_data['Host'] = merged_data['Host'].apply(lambda x: 1 if x == 'OANN' else 0)\n",
    "\n",
    "# Convert columns to numeric type where possible\n",
    "for col in merged_data.columns[:-1]:\n",
    "    merged_data[col] = pd.to_numeric(merged_data[col], errors='coerce')\n",
    "\n",
    "# Calculate correlation between features and the 'Host'\n",
    "ccorrelations = merged_data.corr()['Host'].sort_values(ascending=False)\n",
    "\n",
    "# Select genes/features that are positively correlated with 'Host'\n",
    "selected_genes = correlations.drop('Host').index[correlations.drop('Host') > 0].tolist()\n",
    "\n",
    "# Prepare X and y for model training\n",
    "X = merged_data[selected_genes]\n",
    "y = merged_data['Host']\n",
    "\n",
    "# Split the data into training and testing sets\n",
    "X_train, X_test, y_train, y_test = train_test_split(X, y, test_size=0.2, random_state=42, stratify=y)\n"
   ]
  },
  {
   "cell_type": "code",
   "execution_count": 23,
   "id": "4e7c6968",
   "metadata": {},
   "outputs": [
    {
     "name": "stdout",
     "output_type": "stream",
     "text": [
      "Logistic Regression Accuracy: 0.8888888888888888\n",
      "Top correlated genes for Logistic Regression: ['Q8C196', 'Q6PAZ3']\n",
      "Coefficients from Logistic Regression:\n",
      "[[-0.01334107 -0.00570983 -0.00525592 ...  0.00435485 -0.02062964\n",
      "  -0.00692578]]\n",
      "Number of significant genes with Logistic Regression: 0\n"
     ]
    },
    {
     "name": "stderr",
     "output_type": "stream",
     "text": [
      "/Users/jahnavi/anaconda3/lib/python3.11/site-packages/sklearn/linear_model/_logistic.py:460: ConvergenceWarning: lbfgs failed to converge (status=1):\n",
      "STOP: TOTAL NO. of ITERATIONS REACHED LIMIT.\n",
      "\n",
      "Increase the number of iterations (max_iter) or scale the data as shown in:\n",
      "    https://scikit-learn.org/stable/modules/preprocessing.html\n",
      "Please also refer to the documentation for alternative solver options:\n",
      "    https://scikit-learn.org/stable/modules/linear_model.html#logistic-regression\n",
      "  n_iter_i = _check_optimize_result(\n"
     ]
    }
   ],
   "source": [
    "from sklearn.linear_model import LogisticRegression\n",
    "from sklearn.metrics import accuracy_score\n",
    "\n",
    "# Create a Logistic Regression model\n",
    "logistic_model = LogisticRegression()\n",
    "\n",
    "# Fit the model\n",
    "logistic_model.fit(X_train, y_train)\n",
    "\n",
    "# Predict on test set\n",
    "logistic_predictions = logistic_model.predict(X_test)\n",
    "\n",
    "# Calculate accuracy\n",
    "logistic_accuracy = accuracy_score(y_test, logistic_predictions)\n",
    "print(\"Logistic Regression Accuracy:\", logistic_accuracy)\n",
    "\n",
    "# Identify two genes significantly correlated with 'Host'\n",
    "top_genes_logistic = correlations.drop('Host').nlargest(2).index.tolist()\n",
    "print(\"Top correlated genes for Logistic Regression:\", top_genes_logistic)\n",
    "# Get absolute coefficients and count significant ones\n",
    "threshold = 0.1  # Set the threshold for significant coefficients\n",
    "significant_genes_count = sum(abs(logistic_model.coef_[0]) > threshold)\n",
    "\n",
    "# Print coefficients for further inspection\n",
    "print(\"Coefficients from Logistic Regression:\")\n",
    "print(logistic_model.coef_)\n",
    "\n",
    "print(\"Number of significant genes with Logistic Regression:\", significant_genes_count)"
   ]
  },
  {
   "cell_type": "code",
   "execution_count": 26,
   "id": "b1ae8f63",
   "metadata": {},
   "outputs": [
    {
     "name": "stdout",
     "output_type": "stream",
     "text": [
      "LDA: 0.8888888888888888\n",
      "Number of significant components with LDA: 1\n"
     ]
    }
   ],
   "source": [
    "from sklearn.discriminant_analysis import LinearDiscriminantAnalysis\n",
    "\n",
    "lda_model = LinearDiscriminantAnalysis()\n",
    "lda_model.fit(X_train, y_train)\n",
    "# Fit the LDA model\n",
    "lda_model.fit(X_train, y_train)\n",
    "\n",
    "# Get the number of significant components\n",
    "significant_components_count = sum(lda_model.explained_variance_ratio_ > threshold)\n",
    "\n",
    "# Predict on the test set\n",
    "lda_predictions = lda_model.predict(X_test)\n",
    "\n",
    "# Calculate accuracy\n",
    "lda_accuracy = accuracy_score(y_test, lda_predictions)\n",
    "print(\"LDA:\", logistic_accuracy)\n",
    "\n",
    "significant_components_count = sum(lda_model.explained_variance_ratio_ > threshold)\n",
    "print(\"Number of significant components with LDA:\", significant_components_count)\n"
   ]
  },
  {
   "cell_type": "code",
   "execution_count": null,
   "id": "8099edfc",
   "metadata": {},
   "outputs": [],
   "source": []
  }
 ],
 "metadata": {
  "kernelspec": {
   "display_name": "Python 3 (ipykernel)",
   "language": "python",
   "name": "python3"
  },
  "language_info": {
   "codemirror_mode": {
    "name": "ipython",
    "version": 3
   },
   "file_extension": ".py",
   "mimetype": "text/x-python",
   "name": "python",
   "nbconvert_exporter": "python",
   "pygments_lexer": "ipython3",
   "version": "3.11.4"
  }
 },
 "nbformat": 4,
 "nbformat_minor": 5
}

{
 "cells": [
  {
   "cell_type": "markdown",
   "metadata": {},
   "source": [
    "# BIOL 5340 – Bioinformatics Final Project - PSTR\n",
    "By Alessandra Rodriguez, Ruthvik Gowravaram, Anushka Pawar,​ Sindhura Rama, Gouri Eslavathu"
   ]
  },
  {
   "cell_type": "code",
   "execution_count": 2,
   "metadata": {},
   "outputs": [],
   "source": [
    "# libraries\n",
    "import pandas as pd\n",
    "import numpy as np\n",
    "from sklearn.model_selection import train_test_split, cross_val_score\n",
    "from sklearn.linear_model import LogisticRegression\n",
    "from sklearn.discriminant_analysis import LinearDiscriminantAnalysis\n",
    "from sklearn.discriminant_analysis import QuadraticDiscriminantAnalysis\n",
    "from sklearn.metrics import accuracy_score, classification_report, confusion_matrix\n",
    "from sklearn.svm import SVC\n",
    "from sklearn.metrics import confusion_matrix, accuracy_score\n",
    "import matplotlib.pyplot as plt\n",
    "from sklearn.cross_decomposition import PLSRegression\n",
    "from sklearn.metrics import mean_squared_error, r2_score\n",
    "import statsmodels.api as sm\n",
    "import warnings\n",
    "\n",
    "warnings.filterwarnings(\"ignore\")"
   ]
  },
  {
   "cell_type": "markdown",
   "metadata": {},
   "source": [
    "# Data Preparation"
   ]
  },
  {
   "cell_type": "code",
   "execution_count": 6,
   "metadata": {},
   "outputs": [
    {
     "name": "stdout",
     "output_type": "stream",
     "text": [
      "Unnamed: 0    P58905    Q9S752    O05496    Q0D5B9    Q4UK32    Q9UTR6  \\\n",
      "M_c1_C      1.620841  2.630026  2.091298  2.283285  2.146254  3.021643   \n",
      "M_c3_C      1.620841  3.015490  1.869137  2.049852  2.397577  3.141323   \n",
      "\n",
      "Unnamed: 0    Q80W93    Q0WR59    Q27960    Q9DCM0  ...    Q63120    C0H419  \\\n",
      "M_c1_C      2.491613  1.620841  1.620841  1.620841  ...  2.793084  2.283285   \n",
      "M_c3_C      2.915706  2.732385  1.620841  1.620841  ...  3.299849  2.397577   \n",
      "\n",
      "Unnamed: 0    P22944    P43317    Q11208    Q9M907    K9NVA6    Q9H0C1  \\\n",
      "M_c1_C      4.962174  3.795321  1.620841  2.932480  1.856850  5.624944   \n",
      "M_c3_C      4.246878  4.476104  1.620841  2.996271  2.115619  6.046560   \n",
      "\n",
      "Unnamed: 0    Q02440  Host  \n",
      "M_c1_C      2.241169     0  \n",
      "M_c3_C      2.434535     0  \n",
      "\n",
      "[2 rows x 21 columns]\n"
     ]
    }
   ],
   "source": [
    "file_name = '/Users/alessandrarodriguez/Downloads/normalized_gene_counts_twenty_subset.csv'\n",
    "meta_data = '/Users/alessandrarodriguez/Downloads/metadata.csv'\n",
    "\n",
    "# open data into a pandas df\n",
    "df = pd.read_csv(file_name)\n",
    "# make row names\n",
    "df.set_index(df.columns[0], inplace=True)\n",
    "# transpose data, rows = samples, columns = genes\n",
    "df = df.transpose()\n",
    "\n",
    "# open meta data into a pandas df\n",
    "host_data = pd.read_csv(meta_data)\n",
    "# make row names\n",
    "host_data.set_index(host_data.columns[0], inplace=True)\n",
    "# keep only the relevant columns\n",
    "host_data = host_data.drop(columns=host_data.columns.difference(['Host']))\n",
    "# PSTR is changed to 0 and all other hosts are changed to 0\n",
    "host_data['Host'] = (host_data['Host'] == 'PSTR').astype(int)\n",
    "\n",
    "# make host a column in the data frame\n",
    "df['Host'] = host_data['Host']\n",
    "print(df.head(2))\n",
    "\n",
    "# identify the features as X and the target as y\n",
    "X = df.drop('Host', axis=1)\n",
    "y = df['Host']\n",
    "\n",
    "# split the data into training and testing sets\n",
    "X_train, X_test, y_train, y_test = train_test_split(X,y, test_size=0.2, random_state=42)"
   ]
  },
  {
   "cell_type": "markdown",
   "metadata": {},
   "source": [
    "# Logistic Regression\n",
    "\n",
    "### Explain each algorithm used and expected outcomes\n",
    "Logistic regression is used for binary classification. The model assigns each instance a probability, based on this probability the instance is assigned a class. In this case, it uses the genes to predict whether or not the host is PSTR.\n",
    "\n",
    "### Explain if your algorithm is unsupervised or supervised\n",
    "This is a supervised algorithm because it requires labeled training data which is the host column in this case. \n",
    "\n",
    "### How did you get gene numbers or latent factor information for table above?\n",
    "ANSWER HERE\n",
    "\n",
    "### How did you generate the performance errors (describe for each algorithm)?\n",
    "ANSWER HERE"
   ]
  },
  {
   "cell_type": "code",
   "execution_count": 7,
   "metadata": {},
   "outputs": [
    {
     "name": "stdout",
     "output_type": "stream",
     "text": [
      "\n",
      "Accuracy (Test Set): 0.8888888888888888\n",
      "\n",
      "Confusion Matrix:\n",
      "[[8 0]\n",
      " [1 0]]\n",
      "\n",
      "Classification Report:\n",
      "              precision    recall  f1-score   support\n",
      "\n",
      "           0       0.89      1.00      0.94         8\n",
      "           1       0.00      0.00      0.00         1\n",
      "\n",
      "    accuracy                           0.89         9\n",
      "   macro avg       0.44      0.50      0.47         9\n",
      "weighted avg       0.79      0.89      0.84         9\n",
      "\n"
     ]
    }
   ],
   "source": [
    "# Initializing logistic regression model\n",
    "lr_model = LogisticRegression()\n",
    "\n",
    "# Training the model on the entire training set\n",
    "lr_model.fit(X_train, y_train)\n",
    "\n",
    "# Predicting on the test set\n",
    "y_pred = lr_model.predict(X_test)\n",
    "\n",
    "# Evaluating the model on the test set\n",
    "accuracy = accuracy_score(y_test, y_pred)\n",
    "conf_matrix = confusion_matrix(y_test, y_pred)\n",
    "classification_rep = classification_report(y_test, y_pred)\n",
    "mse = mean_squared_error(y_test, y_pred)\n",
    "\n",
    "# Printing model evaluation on the test set\n",
    "print(\"\\nAccuracy (Test Set):\", accuracy)\n",
    "print(\"\\nConfusion Matrix:\")\n",
    "print(conf_matrix)\n",
    "print(\"\\nClassification Report:\")\n",
    "print(classification_rep)"
   ]
  },
  {
   "cell_type": "markdown",
   "metadata": {},
   "source": [
    "# Linear Discriminant Analysis\n",
    "\n",
    "### Explain each algorithm used and expected outcomes\n",
    "Linear discriminant analysis is a classification model that seperates classes of data using linear combinations of features. The outcome is the discriminant functions that best seperate the different classes.\n",
    "\n",
    "### Explain if your algorithm is unsupervised or supervised\n",
    "This is a supervised algorithm because it requires labeled training data which is the host column in this case. \n",
    "\n",
    "### How did you get gene numbers or latent factor information for table above?\n",
    "ANSWER HERE\n",
    "\n",
    "### How did you generate the performance errors (describe for each algorithm)?\n",
    "ANSWER HERE"
   ]
  },
  {
   "cell_type": "code",
   "execution_count": 8,
   "metadata": {},
   "outputs": [
    {
     "name": "stdout",
     "output_type": "stream",
     "text": [
      "Accuracy: 0.8889\n",
      "Mean Squared Error: 0.1111\n",
      "\n",
      "Confusion Matrix:\n",
      "[[8 0]\n",
      " [1 0]]\n",
      "\n",
      "Classification Report:\n",
      "              precision    recall  f1-score   support\n",
      "\n",
      "           0       0.89      1.00      0.94         8\n",
      "           1       0.00      0.00      0.00         1\n",
      "\n",
      "    accuracy                           0.89         9\n",
      "   macro avg       0.44      0.50      0.47         9\n",
      "weighted avg       0.79      0.89      0.84         9\n",
      "\n"
     ]
    }
   ],
   "source": [
    "# Initializing Linear Discriminant Analysis model\n",
    "lda = LinearDiscriminantAnalysis()\n",
    "\n",
    "# Training the model on the training set\n",
    "lda.fit(X_train, y_train)\n",
    "\n",
    "# Predicting on the test set\n",
    "y_pred = lda.predict(X_test)\n",
    "\n",
    "# Evaluating the model\n",
    "accuracy = accuracy_score(y_test, y_pred)\n",
    "conf_matrix = confusion_matrix(y_test, y_pred)\n",
    "classification_rep = classification_report(y_test, y_pred)\n",
    "mse = mean_squared_error(y_test, y_pred)\n",
    "lda_scalings = lda.scalings_\n",
    "\n",
    "# Printing the results\n",
    "print(f\"Accuracy: {accuracy:.4f}\")\n",
    "print(f\"Mean Squared Error: {mse:.4f}\")\n",
    "print(\"\\nConfusion Matrix:\")\n",
    "print(conf_matrix)\n",
    "print(\"\\nClassification Report:\")\n",
    "print(classification_rep)"
   ]
  },
  {
   "cell_type": "markdown",
   "metadata": {},
   "source": [
    "# Quadratic Discriminant Analysis\n",
    "\n",
    "### Explain each algorithm used and expected outcomes\n",
    "Linear discriminant analysis is a classification model that seperates classes of data using linear AND non linear combinations of features, similar to LDA. The outcomes include assigning each observation a probability of it belonging to a certain class based on the decision boundaries.\n",
    "\n",
    "### Explain if your algorithm is unsupervised or supervised\n",
    "This is a supervised algorithm because it requires labeled training data which is the host column in this case. \n",
    "\n",
    "### How did you get gene numbers or latent factor information for table above?\n",
    "ANSWER HERE\n",
    "\n",
    "### How did you generate the performance errors (describe for each algorithm)?\n",
    "ANSWER HERE"
   ]
  },
  {
   "cell_type": "code",
   "execution_count": 9,
   "metadata": {},
   "outputs": [
    {
     "name": "stdout",
     "output_type": "stream",
     "text": [
      "Accuracy: 0.8889\n",
      "Mean Squared Error: 0.1111\n",
      "\n",
      "Confusion Matrix:\n",
      "[[8 0]\n",
      " [1 0]]\n",
      "\n",
      "Classification Report:\n",
      "              precision    recall  f1-score   support\n",
      "\n",
      "           0       0.89      1.00      0.94         8\n",
      "           1       0.00      0.00      0.00         1\n",
      "\n",
      "    accuracy                           0.89         9\n",
      "   macro avg       0.44      0.50      0.47         9\n",
      "weighted avg       0.79      0.89      0.84         9\n",
      "\n"
     ]
    }
   ],
   "source": [
    "# Initialize Quadratic Discriminant Analysis model\n",
    "qda = QuadraticDiscriminantAnalysis(store_covariance=True)\n",
    "\n",
    "# Train the model on the training set\n",
    "qda.fit(X_train, y_train)\n",
    "\n",
    "# Predict on the test set\n",
    "y_pred = qda.predict(X_test)\n",
    "\n",
    "# Evaluate the model\n",
    "accuracy = accuracy_score(y_test, y_pred)\n",
    "conf_matrix = confusion_matrix(y_test, y_pred)\n",
    "classification_rep = classification_report(y_test, y_pred)\n",
    "mse = mean_squared_error(y_test, y_pred)\n",
    "\n",
    "# Print the results\n",
    "print(f\"Accuracy: {accuracy:.4f}\")\n",
    "print(f\"Mean Squared Error: {mse:.4f}\")\n",
    "print(\"\\nConfusion Matrix:\")\n",
    "print(conf_matrix)\n",
    "print(\"\\nClassification Report:\")\n",
    "print(classification_rep)"
   ]
  },
  {
   "cell_type": "markdown",
   "metadata": {},
   "source": [
    "# Support Vector Machine\n",
    "\n",
    "### Explain each algorithm used and expected outcomes\n",
    "Support Vector Machine finds the best hyper planes to differentiate classes of data. Thus the outcome are hyper planes that act as decision boundaries that maximize the space between different classes.\n",
    "\n",
    "### Explain if your algorithm is unsupervised or supervised\n",
    "This is a supervised algorithm because it requires labeled training data which is the host column in this case. \n",
    "\n",
    "### How did you get gene numbers or latent factor information for table above?\n",
    "ANSWER HERE\n",
    "\n",
    "### How did you generate the performance errors (describe for each algorithm)?\n",
    "ANSWER HERE"
   ]
  },
  {
   "cell_type": "code",
   "execution_count": 10,
   "metadata": {},
   "outputs": [
    {
     "name": "stdout",
     "output_type": "stream",
     "text": [
      "Accuracy: 1.0000\n",
      "Mean Squared Error: 0.0000\n",
      "\n",
      "Confusion Matrix:\n",
      "[[8 0]\n",
      " [0 1]]\n",
      "\n",
      "Classification Report:\n",
      "              precision    recall  f1-score   support\n",
      "\n",
      "           0       1.00      1.00      1.00         8\n",
      "           1       1.00      1.00      1.00         1\n",
      "\n",
      "    accuracy                           1.00         9\n",
      "   macro avg       1.00      1.00      1.00         9\n",
      "weighted avg       1.00      1.00      1.00         9\n",
      "\n"
     ]
    }
   ],
   "source": [
    "# Initialize Support Vector Classification model\n",
    "svm_model = SVC(probability=True)\n",
    "\n",
    "# Train the model on the training set\n",
    "svm_model.fit(X_train, y_train)\n",
    "\n",
    "# Predict on the test set\n",
    "y_pred = svm_model.predict(X_test)\n",
    "\n",
    "# Evaluate the model\n",
    "accuracy = accuracy_score(y_test, y_pred)\n",
    "conf_matrix = confusion_matrix(y_test, y_pred)\n",
    "classification_rep = classification_report(y_test, y_pred)\n",
    "mse = mean_squared_error(y_test, y_pred)\n",
    "\n",
    "# Print the results\n",
    "print(f\"Accuracy: {accuracy:.4f}\")\n",
    "print(f\"Mean Squared Error: {mse:.4f}\")\n",
    "print(\"\\nConfusion Matrix:\")\n",
    "print(conf_matrix)\n",
    "print(\"\\nClassification Report:\")\n",
    "print(classification_rep)"
   ]
  },
  {
   "cell_type": "markdown",
   "metadata": {},
   "source": [
    "# Partial Least Squares\n",
    "\n",
    "### Explain each algorithm used and expected outcomes\n",
    "Partial least squares seeks to find the latent variables, which are complex/less direct patterns in the data, in order to classify observations. Thus the outcome is a set of components/latent variables that can be used to predict the class/host.\n",
    "\n",
    "### Explain if your algorithm is unsupervised or supervised\n",
    "This is a supervised algorithm because it requires labeled training data which is the host column in this case. \n",
    "\n",
    "### How did you get gene numbers or latent factor information for table above?\n",
    "ANSWER HERE\n",
    "\n",
    "### How did you generate the performance errors (describe for each algorithm)?\n",
    "ANSWER HERE"
   ]
  },
  {
   "cell_type": "code",
   "execution_count": 11,
   "metadata": {},
   "outputs": [
    {
     "name": "stdout",
     "output_type": "stream",
     "text": [
      "Mean Squared Error: 0.0307\n",
      "R-squared: 0.6894\n"
     ]
    }
   ],
   "source": [
    "# Initialize PLS Regression model\n",
    "pls_model = PLSRegression(n_components=2)\n",
    "\n",
    "# Train the model on the training set\n",
    "pls_model.fit(X_train, y_train)\n",
    "\n",
    "# Predict on the test set\n",
    "y_pred = pls_model.predict(X_test)\n",
    "\n",
    "# Evaluate the model\n",
    "mse = mean_squared_error(y_test, y_pred)\n",
    "r2 = r2_score(y_test, y_pred)\n",
    "\n",
    "# Print the results\n",
    "print(f\"Mean Squared Error: {mse:.4f}\")\n",
    "print(f\"R-squared: {r2:.4f}\")\n"
   ]
  }
 ],
 "metadata": {
  "kernelspec": {
   "display_name": "Python 3 (ipykernel)",
   "language": "python",
   "name": "python3"
  },
  "language_info": {
   "codemirror_mode": {
    "name": "ipython",
    "version": 3
   },
   "file_extension": ".py",
   "mimetype": "text/x-python",
   "name": "python",
   "nbconvert_exporter": "python",
   "pygments_lexer": "ipython3",
   "version": "3.10.9"
  }
 },
 "nbformat": 4,
 "nbformat_minor": 2
}
